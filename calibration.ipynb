{
 "cells": [
  {
   "cell_type": "code",
   "execution_count": 19,
   "metadata": {},
   "outputs": [],
   "source": [
    "import numpy as np\n",
    "from glob import glob\n",
    "from scipy.interpolate import RegularGridInterpolator\n",
    "import matplotlib.pyplot as plt\n",
    "plt.rcParams.update({\n",
    "    \"font.family\": \"serif\",\n",
    "    \"axes.titlesize\": \"xx-large\",\n",
    "    \"axes.labelsize\": \"xx-large\",\n",
    "    \"xtick.labelsize\": \"x-large\",\n",
    "    \"ytick.labelsize\": \"x-large\",\n",
    "    \"legend.fontsize\": \"large\",\n",
    "    \"figure.titlesize\": \"xx-large\",\n",
    "    \"legend.frameon\": False,\n",
    "    \"text.usetex\": True\n",
    "})"
   ]
  },
  {
   "cell_type": "code",
   "execution_count": 3,
   "metadata": {},
   "outputs": [],
   "source": [
    "images = []\n",
    "for image in sorted(glob(\"csi_side/*.npy\")):\n",
    "    images.append(np.load(image))\n",
    "\n",
    "images = np.vstack(images)"
   ]
  },
  {
   "cell_type": "code",
   "execution_count": 11,
   "metadata": {},
   "outputs": [],
   "source": [
    "metadata = []\n",
    "for meta in sorted(glob(\"csi_side/*.csv\")):\n",
    "    metadata.append(np.loadtxt(meta, delimiter=\",\", skiprows=1))\n",
    "\n",
    "metadata = np.vstack(metadata)"
   ]
  },
  {
   "cell_type": "code",
   "execution_count": 12,
   "metadata": {},
   "outputs": [],
   "source": [
    "charges = np.sum(images, axis=(1, 2))"
   ]
  },
  {
   "cell_type": "code",
   "execution_count": 32,
   "metadata": {},
   "outputs": [
    {
     "data": {
      "text/plain": [
       "array([[ 1.0000000e+04, -1.7736462e+01,  5.6520530e+00,  4.9350037e+01],\n",
       "       [ 1.0001000e+04, -1.4481584e+01,  1.6106043e+01,  4.9373005e+01],\n",
       "       [ 1.0002000e+04, -1.1492530e+01, -1.1367587e+01,  4.9314667e+01],\n",
       "       ...,\n",
       "       [ 9.9999700e+05, -1.5296500e+01,  1.2146146e+01,  3.3235897e+01],\n",
       "       [ 9.9999800e+05,  2.7500504e-01,  1.5020062e+00,  3.1918055e+01],\n",
       "       [ 9.9999900e+05, -2.3503685e+01, -2.1986947e+00,  2.1238539e+01]])"
      ]
     },
     "execution_count": 32,
     "metadata": {},
     "output_type": "execute_result"
    }
   ],
   "source": [
    "metadata"
   ]
  },
  {
   "cell_type": "code",
   "execution_count": 30,
   "metadata": {},
   "outputs": [],
   "source": [
    "def get_2d_bin_contents_from_meshgrid(\n",
    "    x_values,\n",
    "    y_values,\n",
    "    z_values,\n",
    "    x_bin_edges,\n",
    "    y_bin_edges,\n",
    "    z_bin_edges,\n",
    "    histogram_contents,\n",
    "):\n",
    "    # Flatten the 2D arrays to use np.digitize\n",
    "    x_values_flat = x_values.ravel()\n",
    "    y_values_flat = y_values.ravel()\n",
    "    z_values_flat = z_values.ravel()\n",
    "\n",
    "    # Use np.digitize to find the bin indices for each dimension\n",
    "    x_bins_flat = np.digitize(x_values_flat, x_bin_edges) - 1\n",
    "    y_bins_flat = np.digitize(y_values_flat, y_bin_edges) - 1\n",
    "    z_bins_flat = np.digitize(z_values_flat, z_bin_edges) - 1\n",
    "\n",
    "    # Adjust bin indices to handle values that are out of bounds\n",
    "    x_bins_flat = np.clip(x_bins_flat, 0, len(x_bin_edges) - 2)\n",
    "    y_bins_flat = np.clip(y_bins_flat, 0, len(y_bin_edges) - 2)\n",
    "    z_bins_flat = np.clip(z_bins_flat, 0, len(z_bin_edges) - 2)\n",
    "\n",
    "    # Access the histogram contents using the flattened bin indices\n",
    "    bin_contents_flat = histogram_contents[x_bins_flat, y_bins_flat, z_bins_flat]\n",
    "\n",
    "    # Reshape the flat bin contents back to the original meshgrid shape\n",
    "    bin_contents = bin_contents_flat.reshape(x_values.shape)\n",
    "\n",
    "    return bin_contents\n",
    "\n",
    "xx = metadata[:, 1]\n",
    "yy = metadata[:, 2]\n",
    "zz = metadata[:, 3]\n",
    "\n",
    "n, bins = np.histogramdd([xx, yy, zz], weights=charges, bins=(10,10,10))\n",
    "x_edges = bins[0]\n",
    "y_edges = bins[1]\n",
    "z_edges = bins[2]\n",
    "histogram_contents = n\n",
    "\n",
    "# Generate a mesh grid of x and y values\n",
    "x = np.linspace(min(xx), max(xx), 10)\n",
    "y = np.linspace(min(yy), max(yy), 10)\n",
    "z = np.linspace(min(zz), max(zz), 10)\n",
    "\n",
    "x_values, y_values, z_values = np.meshgrid(x, y, z, indexing=\"ij\")\n",
    "\n",
    "# Get bin contents for the mesh grid of points\n",
    "bin_contents = get_2d_bin_contents_from_meshgrid(\n",
    "    x_values, y_values, z_values, x_edges, y_edges, z_edges, histogram_contents\n",
    ")\n",
    "\n",
    "# print(\"Bin contents for the mesh grid of points:\")\n",
    "interp = RegularGridInterpolator((x, y, z), bin_contents/np.max(bin_contents))"
   ]
  },
  {
   "cell_type": "code",
   "execution_count": 31,
   "metadata": {},
   "outputs": [
    {
     "data": {
      "image/png": "[encoded data removed]",
      "text/plain": [
       "<Figure size 640x480 with 1 Axes>"
      ]
     },
     "metadata": {},
     "output_type": "display_data"
    }
   ],
   "source": [
    "fig, ax = plt.subplots(constrained_layout=True)\n",
    "calib_charges = charges / interp(np.vstack([xx, yy, zz]).T)\n",
    "_ = ax.hist(\n",
    "    calib_charges,\n",
    "    bins=100,\n",
    "    range=(1000, 3200),\n",
    "    density=True,\n",
    "    histtype=\"step\",\n",
    "    color=\"k\",\n",
    "    lw=2,\n",
    "    label=f\"Calibrated:\\n $\\sigma/\\mu={np.std(calib_charges)/np.mean(calib_charges)*100:.2f}\\%$\",\n",
    ")\n",
    "_ = ax.hist(\n",
    "    charges,\n",
    "    density=True,\n",
    "    range=(1000, 3200),\n",
    "    bins=100,\n",
    "    histtype=\"step\",\n",
    "    color=\"r\",\n",
    "    lw=2,\n",
    "    label=f\"Not calibrated:\\n $\\sigma/\\mu={np.std(charges)/np.mean(charges)*100:.2f}\\%$\",\n",
    ")\n",
    "\n",
    "ax.legend()\n",
    "ax.set_xlabel(\"Charge [\\# p.e.]\")\n",
    "ax.set_title(\"CsI(Tl) w/ dark face\")\n",
    "ax.set_xlim(1000, 3000)\n",
    "fig.savefig(\"csi_side_calib.pdf\")"
   ]
  },
  {
   "cell_type": "code",
   "execution_count": null,
   "metadata": {},
   "outputs": [],
   "source": []
  }
 ],
 "metadata": {
  "kernelspec": {
   "display_name": "tf",
   "language": "python",
   "name": "python3"
  },
  "language_info": {
   "codemirror_mode": {
    "name": "ipython",
    "version": 3
   },
   "file_extension": ".py",
   "mimetype": "text/x-python",
   "name": "python",
   "nbconvert_exporter": "python",
   "pygments_lexer": "ipython3",
   "version": "3.10.12"
  }
 },
 "nbformat": 4,
 "nbformat_minor": 2
}
